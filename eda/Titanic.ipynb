{
 "cells": [
  {
   "cell_type": "markdown",
   "id": "8ca1c8d5-1d7d-414d-a05f-4ef1857e4800",
   "metadata": {},
   "source": [
    "# Titanic - Machine Learning from Disaster"
   ]
  },
  {
   "cell_type": "code",
   "execution_count": 2,
   "id": "9ddaa4e0-8090-4ccc-8b7b-411722f7d156",
   "metadata": {},
   "outputs": [],
   "source": [
    "import pandas as pd\n",
    "import seaborn as sns"
   ]
  },
  {
   "cell_type": "code",
   "execution_count": 3,
   "id": "db9371ec-da01-4cc0-98cb-59580f7b7c60",
   "metadata": {},
   "outputs": [],
   "source": [
    "titanic_file_path = '../data/titanic/train.csv'"
   ]
  },
  {
   "cell_type": "code",
   "execution_count": 4,
   "id": "0a83d21f-1205-4c54-b8f2-c88deba86dcd",
   "metadata": {},
   "outputs": [],
   "source": [
    "df = pd.read_csv(titanic_file_path) "
   ]
  },
  {
   "cell_type": "code",
   "execution_count": 5,
   "id": "3cda65b2-3179-4c9d-89f6-c55c20bfa0ff",
   "metadata": {},
   "outputs": [
    {
     "data": {
      "text/html": [
       "<div>\n",
       "<style scoped>\n",
       "    .dataframe tbody tr th:only-of-type {\n",
       "        vertical-align: middle;\n",
       "    }\n",
       "\n",
       "    .dataframe tbody tr th {\n",
       "        vertical-align: top;\n",
       "    }\n",
       "\n",
       "    .dataframe thead th {\n",
       "        text-align: right;\n",
       "    }\n",
       "</style>\n",
       "<table border=\"1\" class=\"dataframe\">\n",
       "  <thead>\n",
       "    <tr style=\"text-align: right;\">\n",
       "      <th></th>\n",
       "      <th>PassengerId</th>\n",
       "      <th>Survived</th>\n",
       "      <th>Pclass</th>\n",
       "      <th>Age</th>\n",
       "      <th>SibSp</th>\n",
       "      <th>Parch</th>\n",
       "      <th>Fare</th>\n",
       "    </tr>\n",
       "  </thead>\n",
       "  <tbody>\n",
       "    <tr>\n",
       "      <th>count</th>\n",
       "      <td>891.000000</td>\n",
       "      <td>891.000000</td>\n",
       "      <td>891.000000</td>\n",
       "      <td>714.000000</td>\n",
       "      <td>891.000000</td>\n",
       "      <td>891.000000</td>\n",
       "      <td>891.000000</td>\n",
       "    </tr>\n",
       "    <tr>\n",
       "      <th>mean</th>\n",
       "      <td>446.000000</td>\n",
       "      <td>0.383838</td>\n",
       "      <td>2.308642</td>\n",
       "      <td>29.699118</td>\n",
       "      <td>0.523008</td>\n",
       "      <td>0.381594</td>\n",
       "      <td>32.204208</td>\n",
       "    </tr>\n",
       "    <tr>\n",
       "      <th>std</th>\n",
       "      <td>257.353842</td>\n",
       "      <td>0.486592</td>\n",
       "      <td>0.836071</td>\n",
       "      <td>14.526497</td>\n",
       "      <td>1.102743</td>\n",
       "      <td>0.806057</td>\n",
       "      <td>49.693429</td>\n",
       "    </tr>\n",
       "    <tr>\n",
       "      <th>min</th>\n",
       "      <td>1.000000</td>\n",
       "      <td>0.000000</td>\n",
       "      <td>1.000000</td>\n",
       "      <td>0.420000</td>\n",
       "      <td>0.000000</td>\n",
       "      <td>0.000000</td>\n",
       "      <td>0.000000</td>\n",
       "    </tr>\n",
       "    <tr>\n",
       "      <th>25%</th>\n",
       "      <td>223.500000</td>\n",
       "      <td>0.000000</td>\n",
       "      <td>2.000000</td>\n",
       "      <td>20.125000</td>\n",
       "      <td>0.000000</td>\n",
       "      <td>0.000000</td>\n",
       "      <td>7.910400</td>\n",
       "    </tr>\n",
       "    <tr>\n",
       "      <th>50%</th>\n",
       "      <td>446.000000</td>\n",
       "      <td>0.000000</td>\n",
       "      <td>3.000000</td>\n",
       "      <td>28.000000</td>\n",
       "      <td>0.000000</td>\n",
       "      <td>0.000000</td>\n",
       "      <td>14.454200</td>\n",
       "    </tr>\n",
       "    <tr>\n",
       "      <th>75%</th>\n",
       "      <td>668.500000</td>\n",
       "      <td>1.000000</td>\n",
       "      <td>3.000000</td>\n",
       "      <td>38.000000</td>\n",
       "      <td>1.000000</td>\n",
       "      <td>0.000000</td>\n",
       "      <td>31.000000</td>\n",
       "    </tr>\n",
       "    <tr>\n",
       "      <th>max</th>\n",
       "      <td>891.000000</td>\n",
       "      <td>1.000000</td>\n",
       "      <td>3.000000</td>\n",
       "      <td>80.000000</td>\n",
       "      <td>8.000000</td>\n",
       "      <td>6.000000</td>\n",
       "      <td>512.329200</td>\n",
       "    </tr>\n",
       "  </tbody>\n",
       "</table>\n",
       "</div>"
      ],
      "text/plain": [
       "       PassengerId    Survived      Pclass         Age       SibSp  \\\n",
       "count   891.000000  891.000000  891.000000  714.000000  891.000000   \n",
       "mean    446.000000    0.383838    2.308642   29.699118    0.523008   \n",
       "std     257.353842    0.486592    0.836071   14.526497    1.102743   \n",
       "min       1.000000    0.000000    1.000000    0.420000    0.000000   \n",
       "25%     223.500000    0.000000    2.000000   20.125000    0.000000   \n",
       "50%     446.000000    0.000000    3.000000   28.000000    0.000000   \n",
       "75%     668.500000    1.000000    3.000000   38.000000    1.000000   \n",
       "max     891.000000    1.000000    3.000000   80.000000    8.000000   \n",
       "\n",
       "            Parch        Fare  \n",
       "count  891.000000  891.000000  \n",
       "mean     0.381594   32.204208  \n",
       "std      0.806057   49.693429  \n",
       "min      0.000000    0.000000  \n",
       "25%      0.000000    7.910400  \n",
       "50%      0.000000   14.454200  \n",
       "75%      0.000000   31.000000  \n",
       "max      6.000000  512.329200  "
      ]
     },
     "execution_count": 5,
     "metadata": {},
     "output_type": "execute_result"
    }
   ],
   "source": [
    "df.describe()"
   ]
  },
  {
   "cell_type": "markdown",
   "id": "194ddbb0-aeed-4947-9a16-94bccd6810a8",
   "metadata": {},
   "source": [
    "# Аналіз категоріальних даних\n",
    "\n",
    "Змінні бувають категоріальні і кількісні. Подивимося які є змінні в наборі даних Титаніку"
   ]
  },
  {
   "cell_type": "code",
   "execution_count": 6,
   "id": "a43b00a6-cc38-4970-a5b5-27318390109f",
   "metadata": {},
   "outputs": [
    {
     "name": "stdout",
     "output_type": "stream",
     "text": [
      "<class 'pandas.core.frame.DataFrame'>\n",
      "RangeIndex: 891 entries, 0 to 890\n",
      "Data columns (total 12 columns):\n",
      " #   Column       Non-Null Count  Dtype  \n",
      "---  ------       --------------  -----  \n",
      " 0   PassengerId  891 non-null    int64  \n",
      " 1   Survived     891 non-null    int64  \n",
      " 2   Pclass       891 non-null    int64  \n",
      " 3   Name         891 non-null    object \n",
      " 4   Sex          891 non-null    object \n",
      " 5   Age          714 non-null    float64\n",
      " 6   SibSp        891 non-null    int64  \n",
      " 7   Parch        891 non-null    int64  \n",
      " 8   Ticket       891 non-null    object \n",
      " 9   Fare         891 non-null    float64\n",
      " 10  Cabin        204 non-null    object \n",
      " 11  Embarked     889 non-null    object \n",
      "dtypes: float64(2), int64(5), object(5)\n",
      "memory usage: 83.7+ KB\n"
     ]
    }
   ],
   "source": [
    "df.info()"
   ]
  },
  {
   "cell_type": "markdown",
   "id": "2b9080cc-413e-48e7-8ccb-aba060db4cea",
   "metadata": {},
   "source": [
    "Категоріальними змінними є Name, Sex, Ticket, Cabin, Embarked - зайшов на борт якщо опиратися тільки на цю табличку.\n",
    "В реальності ж Ticket і Name не є категоріальними, тому що вони унікальні і по одній одиниці."
   ]
  },
  {
   "cell_type": "markdown",
   "id": "4c2d453f-e4ea-4bef-b28d-ee17fd1c55e9",
   "metadata": {},
   "source": [
    "#### Критерії категоріальності\n",
    "- Кількість унікальних значень мала (≤10–15)\n",
    "- Значення мають сенс як класи (стать, клас, регіон, порт)\n",
    "- Значення не виглядають як ID/імена/коди - їх взагалі можна відкинути\n",
    "\n",
    "Дійсно категоріальні змінні можна знайти наступним скриптом - порахувати унікальні значення і відфільтрувати ті що більші за 15"
   ]
  },
  {
   "cell_type": "code",
   "execution_count": 8,
   "id": "dce1a7a5-4982-429c-a186-63cb85ca82ca",
   "metadata": {},
   "outputs": [
    {
     "data": {
      "text/html": [
       "<div>\n",
       "<style scoped>\n",
       "    .dataframe tbody tr th:only-of-type {\n",
       "        vertical-align: middle;\n",
       "    }\n",
       "\n",
       "    .dataframe tbody tr th {\n",
       "        vertical-align: top;\n",
       "    }\n",
       "\n",
       "    .dataframe thead th {\n",
       "        text-align: right;\n",
       "    }\n",
       "</style>\n",
       "<table border=\"1\" class=\"dataframe\">\n",
       "  <thead>\n",
       "    <tr style=\"text-align: right;\">\n",
       "      <th></th>\n",
       "      <th>Count</th>\n",
       "      <th>Missing</th>\n",
       "      <th>Unique</th>\n",
       "    </tr>\n",
       "  </thead>\n",
       "  <tbody>\n",
       "    <tr>\n",
       "      <th>Survived</th>\n",
       "      <td>891</td>\n",
       "      <td>0</td>\n",
       "      <td>2</td>\n",
       "    </tr>\n",
       "    <tr>\n",
       "      <th>Pclass</th>\n",
       "      <td>891</td>\n",
       "      <td>0</td>\n",
       "      <td>3</td>\n",
       "    </tr>\n",
       "    <tr>\n",
       "      <th>Sex</th>\n",
       "      <td>891</td>\n",
       "      <td>0</td>\n",
       "      <td>2</td>\n",
       "    </tr>\n",
       "    <tr>\n",
       "      <th>SibSp</th>\n",
       "      <td>891</td>\n",
       "      <td>0</td>\n",
       "      <td>7</td>\n",
       "    </tr>\n",
       "    <tr>\n",
       "      <th>Parch</th>\n",
       "      <td>891</td>\n",
       "      <td>0</td>\n",
       "      <td>7</td>\n",
       "    </tr>\n",
       "    <tr>\n",
       "      <th>Embarked</th>\n",
       "      <td>889</td>\n",
       "      <td>2</td>\n",
       "      <td>3</td>\n",
       "    </tr>\n",
       "  </tbody>\n",
       "</table>\n",
       "</div>"
      ],
      "text/plain": [
       "          Count  Missing  Unique\n",
       "Survived    891        0       2\n",
       "Pclass      891        0       3\n",
       "Sex         891        0       2\n",
       "SibSp       891        0       7\n",
       "Parch       891        0       7\n",
       "Embarked    889        2       3"
      ]
     },
     "execution_count": 8,
     "metadata": {},
     "output_type": "execute_result"
    }
   ],
   "source": [
    "output_df = pd.DataFrame(columns=['Count', 'Missing', 'Unique'])\n",
    "\n",
    "for col in df:\n",
    "        if df[col].nunique() <= 15:\n",
    "            output_df.loc[col] = [df[col].count(),           # Count\n",
    "                                  df[col].isnull().sum(),  # Missing \n",
    "                                  df[col].nunique()]        # Unique]\n",
    "\n",
    "output_df"
   ]
  },
  {
   "cell_type": "markdown",
   "id": "3ee596d7-4b95-41f8-a706-e34a2cac27c5",
   "metadata": {},
   "source": [
    "**Survived** - 0 = No, 1 = Yes\n",
    "\n",
    "**Pclass** - Ticket class 1 = 1st, 2 = 2nd, 3 = 3rd\n",
    "\n",
    "**Sex** - F, M\n",
    "\n",
    "**SibSp** - # of siblings / spouses aboard the Titanic\t\n",
    "\n",
    "**Parch** - # of parents / children aboard the Titanic\n",
    "\n",
    "**Embarked** - Port C = Cherbourg, Q = Queenstown, S = Southampton"
   ]
  },
  {
   "cell_type": "markdown",
   "id": "a374d08e-adcd-409e-acd9-9abb5bb955ce",
   "metadata": {},
   "source": [
    "## Частотні таблиці однієї змінної"
   ]
  },
  {
   "cell_type": "markdown",
   "id": "28158a23-0eb2-44bf-a3e7-3276699e7d47",
   "metadata": {},
   "source": [
    "### 1. Survived"
   ]
  },
  {
   "cell_type": "code",
   "execution_count": 9,
   "id": "cf5797bf-56e1-4dc9-827a-b3b879139e73",
   "metadata": {},
   "outputs": [
    {
     "data": {
      "text/plain": [
       "Survived\n",
       "0    549\n",
       "1    342\n",
       "Name: count, dtype: int64"
      ]
     },
     "execution_count": 9,
     "metadata": {},
     "output_type": "execute_result"
    }
   ],
   "source": [
    "df['Survived'].value_counts()"
   ]
  },
  {
   "cell_type": "code",
   "execution_count": 10,
   "id": "f3d36819-527f-4125-830a-e01000bf4eb2",
   "metadata": {},
   "outputs": [
    {
     "data": {
      "text/plain": [
       "<Axes: xlabel='Survived'>"
      ]
     },
     "execution_count": 10,
     "metadata": {},
     "output_type": "execute_result"
    },
    {
     "data": {
      "image/png": "[encoded data removed]",
      "text/plain": [
       "<Figure size 640x480 with 1 Axes>"
      ]
     },
     "metadata": {},
     "output_type": "display_data"
    }
   ],
   "source": [
    "df['Survived'].value_counts().plot(kind='bar')"
   ]
  },
  {
   "cell_type": "markdown",
   "id": "f567ee49-3257-4dae-86ce-533f51fc70f4",
   "metadata": {},
   "source": [
    "З 891 пасажирів вижило 342, 542 - загинули"
   ]
  },
  {
   "cell_type": "markdown",
   "id": "564cb91f-68a5-4e28-86e3-eed2fb5babbf",
   "metadata": {},
   "source": [
    "### 2. PClass"
   ]
  },
  {
   "cell_type": "code",
   "execution_count": 11,
   "id": "2f3492a3-6814-4a35-aaf9-47f645325098",
   "metadata": {},
   "outputs": [
    {
     "data": {
      "text/plain": [
       "Pclass\n",
       "3    491\n",
       "1    216\n",
       "2    184\n",
       "Name: count, dtype: int64"
      ]
     },
     "execution_count": 11,
     "metadata": {},
     "output_type": "execute_result"
    }
   ],
   "source": [
    "df['Pclass'].value_counts()"
   ]
  },
  {
   "cell_type": "code",
   "execution_count": 12,
   "id": "dfbaa6d6-660b-4cad-835f-d152bf4d18f4",
   "metadata": {},
   "outputs": [
    {
     "data": {
      "text/plain": [
       "<Axes: xlabel='Pclass'>"
      ]
     },
     "execution_count": 12,
     "metadata": {},
     "output_type": "execute_result"
    },
    {
     "data": {
      "image/png": "[encoded data removed]",
      "text/plain": [
       "<Figure size 640x480 with 1 Axes>"
      ]
     },
     "metadata": {},
     "output_type": "display_data"
    }
   ],
   "source": [
    "df['Pclass'].value_counts().plot(kind='bar')"
   ]
  },
  {
   "cell_type": "markdown",
   "id": "b67eab73-9420-4369-b6ad-4f3b6bafc0ef",
   "metadata": {},
   "source": [
    "На борту було 491 пасажир з 3-го класу, 216 пасажирів - 2-го класу, 184 пасажира - 1-го класу"
   ]
  },
  {
   "cell_type": "markdown",
   "id": "f7690758-bcc2-4d87-8451-d480d3a9876b",
   "metadata": {},
   "source": [
    "### 3. Sex"
   ]
  },
  {
   "cell_type": "code",
   "execution_count": 13,
   "id": "7df4c210-81fa-4112-940c-36943e1c35dd",
   "metadata": {},
   "outputs": [
    {
     "data": {
      "text/plain": [
       "Sex\n",
       "male      577\n",
       "female    314\n",
       "Name: count, dtype: int64"
      ]
     },
     "execution_count": 13,
     "metadata": {},
     "output_type": "execute_result"
    }
   ],
   "source": [
    "df['Sex'].value_counts()"
   ]
  },
  {
   "cell_type": "code",
   "execution_count": 14,
   "id": "4e36014c-4810-4fd9-89b6-dc52f2ff13f6",
   "metadata": {},
   "outputs": [
    {
     "data": {
      "text/plain": [
       "<Axes: xlabel='Sex'>"
      ]
     },
     "execution_count": 14,
     "metadata": {},
     "output_type": "execute_result"
    },
    {
     "data": {
      "image/png": "[encoded data removed]",
      "text/plain": [
       "<Figure size 640x480 with 1 Axes>"
      ]
     },
     "metadata": {},
     "output_type": "display_data"
    }
   ],
   "source": [
    "df['Sex'].value_counts().plot(kind='bar')"
   ]
  },
  {
   "cell_type": "markdown",
   "id": "234d5471-358c-4fa0-a965-85d3ec4ec876",
   "metadata": {},
   "source": [
    "На борту було 577 чоловіків і 314 жінок"
   ]
  },
  {
   "cell_type": "markdown",
   "id": "84f8c292-63e5-43cb-84b5-ae4b1620240f",
   "metadata": {},
   "source": [
    "### 4. SibSp"
   ]
  },
  {
   "cell_type": "markdown",
   "id": "bc4081a8-1f40-4710-a756-7ab2c65c9897",
   "metadata": {},
   "source": [
    "sibsp: The dataset defines family relations in this way...\n",
    "\n",
    "Sibling = brother, sister, stepbrother, stepsister\n",
    "\n",
    "Spouse = husband, wife (mistresses and fiancés were ignored)"
   ]
  },
  {
   "cell_type": "code",
   "execution_count": 15,
   "id": "6354448d-89e5-4bdf-a664-c4e5a71adc6c",
   "metadata": {},
   "outputs": [
    {
     "data": {
      "text/plain": [
       "SibSp\n",
       "0    608\n",
       "1    209\n",
       "2     28\n",
       "4     18\n",
       "3     16\n",
       "8      7\n",
       "5      5\n",
       "Name: count, dtype: int64"
      ]
     },
     "execution_count": 15,
     "metadata": {},
     "output_type": "execute_result"
    }
   ],
   "source": [
    "df['SibSp'].value_counts()"
   ]
  },
  {
   "cell_type": "code",
   "execution_count": 16,
   "id": "3203696c-0a5a-4c51-8366-9bcc6b7ee3ab",
   "metadata": {},
   "outputs": [
    {
     "data": {
      "text/plain": [
       "<Axes: xlabel='SibSp'>"
      ]
     },
     "execution_count": 16,
     "metadata": {},
     "output_type": "execute_result"
    },
    {
     "data": {
      "image/png": "[encoded data removed]",
      "text/plain": [
       "<Figure size 640x480 with 1 Axes>"
      ]
     },
     "metadata": {},
     "output_type": "display_data"
    }
   ],
   "source": [
    "df['SibSp'].value_counts().plot(kind='bar')"
   ]
  },
  {
   "cell_type": "markdown",
   "id": "bd030156-1195-47a8-a1ae-7b4f05e7a991",
   "metadata": {},
   "source": [
    "Найбільше пасажирів було без родичей - 608 людей, 209 - заміжні пари, і далі вже люди які мали родичей\n",
    "\n",
    "Тут детальніший аналіз як це можна буде використати https://www.kaggle.com/code/ailuropus/extracting-family-relationships-on-titanic-sibsp "
   ]
  },
  {
   "cell_type": "markdown",
   "id": "4f02dd6e-f8eb-4908-ad86-ae6e35fddd71",
   "metadata": {},
   "source": [
    "### 5. Parch"
   ]
  },
  {
   "cell_type": "code",
   "execution_count": 17,
   "id": "045dec13-a3f4-4cba-829b-1d2e9ca4346a",
   "metadata": {},
   "outputs": [
    {
     "data": {
      "text/plain": [
       "Parch\n",
       "0    678\n",
       "1    118\n",
       "2     80\n",
       "5      5\n",
       "3      5\n",
       "4      4\n",
       "6      1\n",
       "Name: count, dtype: int64"
      ]
     },
     "execution_count": 17,
     "metadata": {},
     "output_type": "execute_result"
    }
   ],
   "source": [
    "df['Parch'].value_counts()"
   ]
  },
  {
   "cell_type": "code",
   "execution_count": 18,
   "id": "27a7a7a4-f849-42ea-96e7-0dcff595fb15",
   "metadata": {},
   "outputs": [
    {
     "data": {
      "text/plain": [
       "<Axes: xlabel='Parch'>"
      ]
     },
     "execution_count": 18,
     "metadata": {},
     "output_type": "execute_result"
    },
    {
     "data": {
      "image/png": "[encoded data removed]",
      "text/plain": [
       "<Figure size 640x480 with 1 Axes>"
      ]
     },
     "metadata": {},
     "output_type": "display_data"
    }
   ],
   "source": [
    "df['Parch'].value_counts().plot(kind='bar')"
   ]
  },
  {
   "cell_type": "markdown",
   "id": "13c13adc-5f45-4e93-aa30-704a3b35ce47",
   "metadata": {},
   "source": [
    "Тут я не зовсім зрозуміла як це рахується. Чи входить в 2 - дитина, чоловік і жінка. Тому вирішила глянути в датасеті у кого є такі цифри\n",
    "Так як 6 має всього одна людина - її буде просто знайти."
   ]
  },
  {
   "cell_type": "code",
   "execution_count": 19,
   "id": "518c9344-77e3-49e3-a517-20a4cbbeaab8",
   "metadata": {},
   "outputs": [
    {
     "data": {
      "text/html": [
       "<div>\n",
       "<style scoped>\n",
       "    .dataframe tbody tr th:only-of-type {\n",
       "        vertical-align: middle;\n",
       "    }\n",
       "\n",
       "    .dataframe tbody tr th {\n",
       "        vertical-align: top;\n",
       "    }\n",
       "\n",
       "    .dataframe thead th {\n",
       "        text-align: right;\n",
       "    }\n",
       "</style>\n",
       "<table border=\"1\" class=\"dataframe\">\n",
       "  <thead>\n",
       "    <tr style=\"text-align: right;\">\n",
       "      <th></th>\n",
       "      <th>Name</th>\n",
       "      <th>Age</th>\n",
       "    </tr>\n",
       "  </thead>\n",
       "  <tbody>\n",
       "    <tr>\n",
       "      <th>678</th>\n",
       "      <td>Goodwin, Mrs. Frederick (Augusta Tyler)</td>\n",
       "      <td>43.0</td>\n",
       "    </tr>\n",
       "  </tbody>\n",
       "</table>\n",
       "</div>"
      ],
      "text/plain": [
       "                                        Name   Age\n",
       "678  Goodwin, Mrs. Frederick (Augusta Tyler)  43.0"
      ]
     },
     "execution_count": 19,
     "metadata": {},
     "output_type": "execute_result"
    }
   ],
   "source": [
    "df[df['Parch'] == 6][['Name', 'Age']]"
   ]
  },
  {
   "cell_type": "markdown",
   "id": "1f73e1e0-ea86-44f5-904e-024ce0d32055",
   "metadata": {},
   "source": [
    "Тут я очікувала що їх буде більше. Тобто батьки і діти будуть мати одну і ту саму цифру, але виявилося.."
   ]
  },
  {
   "cell_type": "code",
   "execution_count": 20,
   "id": "9baf7268-6d12-4a86-b842-75870ae9c619",
   "metadata": {},
   "outputs": [
    {
     "data": {
      "text/html": [
       "<div>\n",
       "<style scoped>\n",
       "    .dataframe tbody tr th:only-of-type {\n",
       "        vertical-align: middle;\n",
       "    }\n",
       "\n",
       "    .dataframe tbody tr th {\n",
       "        vertical-align: top;\n",
       "    }\n",
       "\n",
       "    .dataframe thead th {\n",
       "        text-align: right;\n",
       "    }\n",
       "</style>\n",
       "<table border=\"1\" class=\"dataframe\">\n",
       "  <thead>\n",
       "    <tr style=\"text-align: right;\">\n",
       "      <th></th>\n",
       "      <th>PassengerId</th>\n",
       "      <th>Survived</th>\n",
       "      <th>Pclass</th>\n",
       "      <th>Name</th>\n",
       "      <th>Sex</th>\n",
       "      <th>Age</th>\n",
       "      <th>SibSp</th>\n",
       "      <th>Parch</th>\n",
       "      <th>Ticket</th>\n",
       "      <th>Fare</th>\n",
       "      <th>Cabin</th>\n",
       "      <th>Embarked</th>\n",
       "    </tr>\n",
       "  </thead>\n",
       "  <tbody>\n",
       "    <tr>\n",
       "      <th>59</th>\n",
       "      <td>60</td>\n",
       "      <td>0</td>\n",
       "      <td>3</td>\n",
       "      <td>Goodwin, Master. William Frederick</td>\n",
       "      <td>male</td>\n",
       "      <td>11.0</td>\n",
       "      <td>5</td>\n",
       "      <td>2</td>\n",
       "      <td>CA 2144</td>\n",
       "      <td>46.9</td>\n",
       "      <td>NaN</td>\n",
       "      <td>S</td>\n",
       "    </tr>\n",
       "    <tr>\n",
       "      <th>71</th>\n",
       "      <td>72</td>\n",
       "      <td>0</td>\n",
       "      <td>3</td>\n",
       "      <td>Goodwin, Miss. Lillian Amy</td>\n",
       "      <td>female</td>\n",
       "      <td>16.0</td>\n",
       "      <td>5</td>\n",
       "      <td>2</td>\n",
       "      <td>CA 2144</td>\n",
       "      <td>46.9</td>\n",
       "      <td>NaN</td>\n",
       "      <td>S</td>\n",
       "    </tr>\n",
       "    <tr>\n",
       "      <th>386</th>\n",
       "      <td>387</td>\n",
       "      <td>0</td>\n",
       "      <td>3</td>\n",
       "      <td>Goodwin, Master. Sidney Leonard</td>\n",
       "      <td>male</td>\n",
       "      <td>1.0</td>\n",
       "      <td>5</td>\n",
       "      <td>2</td>\n",
       "      <td>CA 2144</td>\n",
       "      <td>46.9</td>\n",
       "      <td>NaN</td>\n",
       "      <td>S</td>\n",
       "    </tr>\n",
       "    <tr>\n",
       "      <th>480</th>\n",
       "      <td>481</td>\n",
       "      <td>0</td>\n",
       "      <td>3</td>\n",
       "      <td>Goodwin, Master. Harold Victor</td>\n",
       "      <td>male</td>\n",
       "      <td>9.0</td>\n",
       "      <td>5</td>\n",
       "      <td>2</td>\n",
       "      <td>CA 2144</td>\n",
       "      <td>46.9</td>\n",
       "      <td>NaN</td>\n",
       "      <td>S</td>\n",
       "    </tr>\n",
       "    <tr>\n",
       "      <th>678</th>\n",
       "      <td>679</td>\n",
       "      <td>0</td>\n",
       "      <td>3</td>\n",
       "      <td>Goodwin, Mrs. Frederick (Augusta Tyler)</td>\n",
       "      <td>female</td>\n",
       "      <td>43.0</td>\n",
       "      <td>1</td>\n",
       "      <td>6</td>\n",
       "      <td>CA 2144</td>\n",
       "      <td>46.9</td>\n",
       "      <td>NaN</td>\n",
       "      <td>S</td>\n",
       "    </tr>\n",
       "    <tr>\n",
       "      <th>683</th>\n",
       "      <td>684</td>\n",
       "      <td>0</td>\n",
       "      <td>3</td>\n",
       "      <td>Goodwin, Mr. Charles Edward</td>\n",
       "      <td>male</td>\n",
       "      <td>14.0</td>\n",
       "      <td>5</td>\n",
       "      <td>2</td>\n",
       "      <td>CA 2144</td>\n",
       "      <td>46.9</td>\n",
       "      <td>NaN</td>\n",
       "      <td>S</td>\n",
       "    </tr>\n",
       "  </tbody>\n",
       "</table>\n",
       "</div>"
      ],
      "text/plain": [
       "     PassengerId  Survived  Pclass                                     Name  \\\n",
       "59            60         0       3       Goodwin, Master. William Frederick   \n",
       "71            72         0       3               Goodwin, Miss. Lillian Amy   \n",
       "386          387         0       3          Goodwin, Master. Sidney Leonard   \n",
       "480          481         0       3           Goodwin, Master. Harold Victor   \n",
       "678          679         0       3  Goodwin, Mrs. Frederick (Augusta Tyler)   \n",
       "683          684         0       3              Goodwin, Mr. Charles Edward   \n",
       "\n",
       "        Sex   Age  SibSp  Parch   Ticket  Fare Cabin Embarked  \n",
       "59     male  11.0      5      2  CA 2144  46.9   NaN        S  \n",
       "71   female  16.0      5      2  CA 2144  46.9   NaN        S  \n",
       "386    male   1.0      5      2  CA 2144  46.9   NaN        S  \n",
       "480    male   9.0      5      2  CA 2144  46.9   NaN        S  \n",
       "678  female  43.0      1      6  CA 2144  46.9   NaN        S  \n",
       "683    male  14.0      5      2  CA 2144  46.9   NaN        S  "
      ]
     },
     "execution_count": 20,
     "metadata": {},
     "output_type": "execute_result"
    }
   ],
   "source": [
    "df[df['Name'].str.contains('Goodwin', case=False, na=False)]"
   ]
  },
  {
   "cell_type": "markdown",
   "id": "8cd3671e-2728-442c-9268-203e1b51be5e",
   "metadata": {},
   "source": [
    "Parch - це скільки дітей всього має певна людина + себе.\n",
    "А діти між собою обʼєднані кількістю SibSp."
   ]
  },
  {
   "cell_type": "markdown",
   "id": "fa1a0c2a-babb-4e37-98c6-69df6d513f10",
   "metadata": {},
   "source": [
    "### 6. Embarked"
   ]
  },
  {
   "cell_type": "code",
   "execution_count": 22,
   "id": "33d6d6b5-3dd4-42ec-82ac-f34cb7335c84",
   "metadata": {},
   "outputs": [],
   "source": [
    "embarked = df['Embarked'].value_counts()"
   ]
  },
  {
   "cell_type": "code",
   "execution_count": 23,
   "id": "01781d8b-bd3c-41ca-bbef-534f5192e24a",
   "metadata": {},
   "outputs": [
    {
     "data": {
      "text/plain": [
       "pandas.core.series.Series"
      ]
     },
     "execution_count": 23,
     "metadata": {},
     "output_type": "execute_result"
    }
   ],
   "source": [
    "type(embarked)"
   ]
  },
  {
   "cell_type": "code",
   "execution_count": 24,
   "id": "240f0939-2466-4f64-881e-e9971efa2ff8",
   "metadata": {},
   "outputs": [
    {
     "data": {
      "text/plain": [
       "Embarked\n",
       "S    644\n",
       "C    168\n",
       "Q     77\n",
       "Name: count, dtype: int64"
      ]
     },
     "execution_count": 24,
     "metadata": {},
     "output_type": "execute_result"
    }
   ],
   "source": [
    "embarked"
   ]
  },
  {
   "cell_type": "markdown",
   "id": "822b9a83-bbdf-454c-9216-cf38255dae9b",
   "metadata": {},
   "source": [
    "C = Cherbourg, Q = Queenstown, S = Southampton"
   ]
  },
  {
   "cell_type": "code",
   "execution_count": 25,
   "id": "a6390370-df08-449d-bce5-1ec7456414b6",
   "metadata": {},
   "outputs": [
    {
     "data": {
      "text/plain": [
       "<Axes: xlabel='Embarked'>"
      ]
     },
     "execution_count": 25,
     "metadata": {},
     "output_type": "execute_result"
    },
    {
     "data": {
      "image/png": "[encoded data removed]",
      "text/plain": [
       "<Figure size 640x480 with 1 Axes>"
      ]
     },
     "metadata": {},
     "output_type": "display_data"
    }
   ],
   "source": [
    "df['Embarked'].value_counts().plot(kind='bar')"
   ]
  },
  {
   "cell_type": "markdown",
   "id": "0a12f069-be02-4e63-8768-bab60daa8c11",
   "metadata": {},
   "source": [
    "### Висновки\n",
    "З 891 пасажирів вижило 342, 542 - загинули\n",
    "- На борту було 491 пасажирів з 3-го класу, 216 пасажирів - 2-го класу, 184 пасажира - 1-го класу\n",
    "- На борту було 577 чоловіків і 314 жінок\n",
    "- 678 пасажирів було без дітей, 608 пасажирів без подружжя (можна детальніше аналізувати Parch і SibSp бо вони поєднані)\n",
    "- 644 зайшли на борт в Southampton"
   ]
  },
  {
   "cell_type": "markdown",
   "id": "10641b80-1d07-4322-b9b6-07f05dacd8bb",
   "metadata": {},
   "source": [
    "## Частотні таблиці двох змінних"
   ]
  },
  {
   "cell_type": "markdown",
   "id": "c80cc586-7e07-47ad-b11d-bd7efa6236b0",
   "metadata": {},
   "source": [
    "### Survived"
   ]
  },
  {
   "cell_type": "markdown",
   "id": "b6058170-e5c0-47e4-bd75-0137eb7e77e0",
   "metadata": {},
   "source": [
    "#### Жінки чи чоловіки?"
   ]
  },
  {
   "cell_type": "code",
   "execution_count": 26,
   "id": "24f6e999-dda2-4b59-993a-473145158c4a",
   "metadata": {},
   "outputs": [
    {
     "data": {
      "text/html": [
       "<div>\n",
       "<style scoped>\n",
       "    .dataframe tbody tr th:only-of-type {\n",
       "        vertical-align: middle;\n",
       "    }\n",
       "\n",
       "    .dataframe tbody tr th {\n",
       "        vertical-align: top;\n",
       "    }\n",
       "\n",
       "    .dataframe thead th {\n",
       "        text-align: right;\n",
       "    }\n",
       "</style>\n",
       "<table border=\"1\" class=\"dataframe\">\n",
       "  <thead>\n",
       "    <tr style=\"text-align: right;\">\n",
       "      <th>Survived</th>\n",
       "      <th>0</th>\n",
       "      <th>1</th>\n",
       "      <th>Total</th>\n",
       "    </tr>\n",
       "    <tr>\n",
       "      <th>Sex</th>\n",
       "      <th></th>\n",
       "      <th></th>\n",
       "      <th></th>\n",
       "    </tr>\n",
       "  </thead>\n",
       "  <tbody>\n",
       "    <tr>\n",
       "      <th>female</th>\n",
       "      <td>81</td>\n",
       "      <td>233</td>\n",
       "      <td>314</td>\n",
       "    </tr>\n",
       "    <tr>\n",
       "      <th>male</th>\n",
       "      <td>468</td>\n",
       "      <td>109</td>\n",
       "      <td>577</td>\n",
       "    </tr>\n",
       "  </tbody>\n",
       "</table>\n",
       "</div>"
      ],
      "text/plain": [
       "Survived    0    1  Total\n",
       "Sex                      \n",
       "female     81  233    314\n",
       "male      468  109    577"
      ]
     },
     "execution_count": 26,
     "metadata": {},
     "output_type": "execute_result"
    }
   ],
   "source": [
    "ct_counts = pd.crosstab(df['Sex'], df['Survived'])\n",
    "ct_counts['Total'] = ct_counts.sum(axis=1)\n",
    "#ct_counts.loc['Total'] = ct_counts.sum()\n",
    "ct_counts"
   ]
  },
  {
   "cell_type": "code",
   "execution_count": 27,
   "id": "744a3a93-c13b-44fe-8543-d62c9ffffc39",
   "metadata": {},
   "outputs": [
    {
     "data": {
      "text/html": [
       "<div>\n",
       "<style scoped>\n",
       "    .dataframe tbody tr th:only-of-type {\n",
       "        vertical-align: middle;\n",
       "    }\n",
       "\n",
       "    .dataframe tbody tr th {\n",
       "        vertical-align: top;\n",
       "    }\n",
       "\n",
       "    .dataframe thead th {\n",
       "        text-align: right;\n",
       "    }\n",
       "</style>\n",
       "<table border=\"1\" class=\"dataframe\">\n",
       "  <thead>\n",
       "    <tr style=\"text-align: right;\">\n",
       "      <th>Survived</th>\n",
       "      <th>0</th>\n",
       "      <th>1</th>\n",
       "    </tr>\n",
       "    <tr>\n",
       "      <th>Sex</th>\n",
       "      <th></th>\n",
       "      <th></th>\n",
       "    </tr>\n",
       "  </thead>\n",
       "  <tbody>\n",
       "    <tr>\n",
       "      <th>female</th>\n",
       "      <td>0.26</td>\n",
       "      <td>0.74</td>\n",
       "    </tr>\n",
       "    <tr>\n",
       "      <th>male</th>\n",
       "      <td>0.81</td>\n",
       "      <td>0.19</td>\n",
       "    </tr>\n",
       "  </tbody>\n",
       "</table>\n",
       "</div>"
      ],
      "text/plain": [
       "Survived     0     1\n",
       "Sex                 \n",
       "female    0.26  0.74\n",
       "male      0.81  0.19"
      ]
     },
     "execution_count": 27,
     "metadata": {},
     "output_type": "execute_result"
    }
   ],
   "source": [
    "pd.crosstab(df['Sex'], df['Survived'], normalize='index').round(2)"
   ]
  },
  {
   "cell_type": "markdown",
   "id": "781138e3-97f8-49d4-86b5-2f689e100b8a",
   "metadata": {},
   "source": [
    "74% жінок вижило, 81% чоловіків померло\n",
    "\n",
    "Це відбулося скоріш за все через те, що спасали жінок більше. Але мені цікаво було б ще тут подивится вік. Дітей теж мали спасати в першу чергу"
   ]
  },
  {
   "cell_type": "markdown",
   "id": "4375724f-18e4-42f7-aa4a-8956c2aa1828",
   "metadata": {},
   "source": [
    "#### Клас квитків і виживаємість"
   ]
  },
  {
   "cell_type": "code",
   "execution_count": 28,
   "id": "54ef62c6-47a4-4b98-927d-56dd820c227f",
   "metadata": {},
   "outputs": [
    {
     "data": {
      "text/html": [
       "<div>\n",
       "<style scoped>\n",
       "    .dataframe tbody tr th:only-of-type {\n",
       "        vertical-align: middle;\n",
       "    }\n",
       "\n",
       "    .dataframe tbody tr th {\n",
       "        vertical-align: top;\n",
       "    }\n",
       "\n",
       "    .dataframe thead th {\n",
       "        text-align: right;\n",
       "    }\n",
       "</style>\n",
       "<table border=\"1\" class=\"dataframe\">\n",
       "  <thead>\n",
       "    <tr style=\"text-align: right;\">\n",
       "      <th>Survived</th>\n",
       "      <th>0</th>\n",
       "      <th>1</th>\n",
       "    </tr>\n",
       "    <tr>\n",
       "      <th>Pclass</th>\n",
       "      <th></th>\n",
       "      <th></th>\n",
       "    </tr>\n",
       "  </thead>\n",
       "  <tbody>\n",
       "    <tr>\n",
       "      <th>1</th>\n",
       "      <td>0.37</td>\n",
       "      <td>0.63</td>\n",
       "    </tr>\n",
       "    <tr>\n",
       "      <th>2</th>\n",
       "      <td>0.53</td>\n",
       "      <td>0.47</td>\n",
       "    </tr>\n",
       "    <tr>\n",
       "      <th>3</th>\n",
       "      <td>0.76</td>\n",
       "      <td>0.24</td>\n",
       "    </tr>\n",
       "  </tbody>\n",
       "</table>\n",
       "</div>"
      ],
      "text/plain": [
       "Survived     0     1\n",
       "Pclass              \n",
       "1         0.37  0.63\n",
       "2         0.53  0.47\n",
       "3         0.76  0.24"
      ]
     },
     "execution_count": 28,
     "metadata": {},
     "output_type": "execute_result"
    }
   ],
   "source": [
    "pd.crosstab(df['Pclass'], df['Survived'], normalize='index').round(2)"
   ]
  },
  {
   "cell_type": "markdown",
   "id": "9686d9b2-2994-4c93-b8bd-1c8c208397aa",
   "metadata": {},
   "source": [
    "63% першого класу вижило і 47% другого - вижило"
   ]
  },
  {
   "cell_type": "code",
   "execution_count": 29,
   "id": "7684f1fd-2b57-4722-a0b2-bff782d4cc8e",
   "metadata": {},
   "outputs": [],
   "source": [
    "### Родинність"
   ]
  },
  {
   "cell_type": "markdown",
   "id": "d740a465-5e54-4a64-bdd6-a471efdffda4",
   "metadata": {},
   "source": [
    "# Аналіз кількісних даних"
   ]
  },
  {
   "cell_type": "markdown",
   "id": "13200ac8-7b37-4704-8820-0b086e2edc5a",
   "metadata": {},
   "source": [
    "## Unit 3: Measuring center in quantitative data"
   ]
  },
  {
   "cell_type": "markdown",
   "id": "77ab48fd-192b-4198-b441-5d484b515f17",
   "metadata": {},
   "source": [
    "### 1. Age\n",
    "- Обчислити mean, median і mode змінної\n",
    "- Побудувати гістограму віку.\n",
    "- Визнач, чи розподіл симетричний чи має асиметрію.\n",
    "- Вибери, яка міра центру найкраща і чому."
   ]
  },
  {
   "cell_type": "code",
   "execution_count": 18,
   "id": "6218ba6f-78c2-4e51-b00a-6ef23f26d159",
   "metadata": {},
   "outputs": [
    {
     "data": {
      "text/html": [
       "<div>\n",
       "<style scoped>\n",
       "    .dataframe tbody tr th:only-of-type {\n",
       "        vertical-align: middle;\n",
       "    }\n",
       "\n",
       "    .dataframe tbody tr th {\n",
       "        vertical-align: top;\n",
       "    }\n",
       "\n",
       "    .dataframe thead th {\n",
       "        text-align: right;\n",
       "    }\n",
       "</style>\n",
       "<table border=\"1\" class=\"dataframe\">\n",
       "  <thead>\n",
       "    <tr style=\"text-align: right;\">\n",
       "      <th></th>\n",
       "      <th>Mean</th>\n",
       "      <th>Median</th>\n",
       "      <th>Mode</th>\n",
       "    </tr>\n",
       "  </thead>\n",
       "  <tbody>\n",
       "    <tr>\n",
       "      <th>0</th>\n",
       "      <td>29.699118</td>\n",
       "      <td>28.0</td>\n",
       "      <td>24.0</td>\n",
       "    </tr>\n",
       "  </tbody>\n",
       "</table>\n",
       "</div>"
      ],
      "text/plain": [
       "        Mean  Median  Mode\n",
       "0  29.699118    28.0  24.0"
      ]
     },
     "execution_count": 18,
     "metadata": {},
     "output_type": "execute_result"
    }
   ],
   "source": [
    "age_df = pd.DataFrame(columns=['Mean', 'Median', 'Mode'])\n",
    "\n",
    "age_df\n",
    "\n",
    "age_df['Mean'] = [df[\"Age\"].mean()]\n",
    "age_df['Median'] = [df[\"Age\"].median()]\n",
    "age_df['Mode'] = [df[\"Age\"].mode().iloc[0]]\n",
    "\n",
    "age_df"
   ]
  },
  {
   "cell_type": "code",
   "execution_count": 17,
   "id": "975a061f-dbe0-425d-bc19-8ca9b755d8f8",
   "metadata": {},
   "outputs": [
    {
     "data": {
      "text/plain": [
       "<Axes: xlabel='Age', ylabel='Count'>"
      ]
     },
     "execution_count": 17,
     "metadata": {},
     "output_type": "execute_result"
    },
    {
     "data": {
      "image/png": "[encoded data removed]",
      "text/plain": [
       "<Figure size 640x480 with 1 Axes>"
      ]
     },
     "metadata": {},
     "output_type": "display_data"
    }
   ],
   "source": [
    "bins = [0, 5, 10, 15, 20, 25, 30, 35, 40, 50, 60, 70, 80]\n",
    "sns.histplot(data=df, x=\"Age\", bins=bins)"
   ]
  },
  {
   "cell_type": "markdown",
   "id": "87a13d09-2c80-4a79-996f-0f181eed413f",
   "metadata": {},
   "source": [
    "Найпоширеніший вік на борту - 24 роки. Найбільше людей на борту було від 20 до 25 років. \n",
    "\n",
    "Наш розподіл майже симетричний - медіана і мода мають близькі значення. Але все ж таки розподіл трохи зсунутий в право. Тобто переважна більшість людей - дорослі."
   ]
  },
  {
   "cell_type": "markdown",
   "id": "d5168077-33ac-4899-b11f-b2c641f65f70",
   "metadata": {},
   "source": [
    "### 2. Fare\n",
    "- Обчисли mean, median, і mode вартості квитків Fare.\n",
    "- Побудуй гістограму Fare (з логарифмічною шкалою, якщо є \"викиди\").\n",
    "- Чи є дуже великі значення, які тягнуть середнє вгору?\n",
    "- Чи краще тут використовувати медіану?"
   ]
  },
  {
   "cell_type": "code",
   "execution_count": 22,
   "id": "9584f5aa-1a9e-4fc9-8fca-33a15b777cca",
   "metadata": {},
   "outputs": [
    {
     "data": {
      "text/html": [
       "<div>\n",
       "<style scoped>\n",
       "    .dataframe tbody tr th:only-of-type {\n",
       "        vertical-align: middle;\n",
       "    }\n",
       "\n",
       "    .dataframe tbody tr th {\n",
       "        vertical-align: top;\n",
       "    }\n",
       "\n",
       "    .dataframe thead th {\n",
       "        text-align: right;\n",
       "    }\n",
       "</style>\n",
       "<table border=\"1\" class=\"dataframe\">\n",
       "  <thead>\n",
       "    <tr style=\"text-align: right;\">\n",
       "      <th></th>\n",
       "      <th>Mean</th>\n",
       "      <th>Median</th>\n",
       "      <th>Mode</th>\n",
       "      <th>Max</th>\n",
       "      <th>Min</th>\n",
       "    </tr>\n",
       "  </thead>\n",
       "  <tbody>\n",
       "    <tr>\n",
       "      <th>0</th>\n",
       "      <td>32.204208</td>\n",
       "      <td>14.4542</td>\n",
       "      <td>8.05</td>\n",
       "      <td>512.3292</td>\n",
       "      <td>0.0</td>\n",
       "    </tr>\n",
       "  </tbody>\n",
       "</table>\n",
       "</div>"
      ],
      "text/plain": [
       "        Mean   Median  Mode       Max  Min\n",
       "0  32.204208  14.4542  8.05  512.3292  0.0"
      ]
     },
     "execution_count": 22,
     "metadata": {},
     "output_type": "execute_result"
    }
   ],
   "source": [
    "fare_df = pd.DataFrame(columns=['Mean', 'Median', 'Mode'])\n",
    "\n",
    "fare_df['Mean'] = [df[\"Fare\"].mean()]\n",
    "fare_df['Median'] = [df[\"Fare\"].median()]\n",
    "fare_df['Mode'] = [df[\"Fare\"].mode().iloc[0]]\n",
    "fare_df['Max'] = [df[\"Fare\"].max()]\n",
    "fare_df['Min'] = [df[\"Fare\"].min()]\n",
    "\n",
    "fare_df"
   ]
  },
  {
   "cell_type": "code",
   "execution_count": 21,
   "id": "d5201b08-dfdb-4412-9cfb-23a1b5b3be25",
   "metadata": {},
   "outputs": [
    {
     "data": {
      "text/plain": [
       "<Axes: xlabel='Fare', ylabel='Count'>"
      ]
     },
     "execution_count": 21,
     "metadata": {},
     "output_type": "execute_result"
    },
    {
     "data": {
      "image/png": "[encoded data removed]",
      "text/plain": [
       "<Figure size 640x480 with 1 Axes>"
      ]
     },
     "metadata": {},
     "output_type": "display_data"
    }
   ],
   "source": [
    "sns.histplot(data=df, x=\"Fare\")"
   ]
  },
  {
   "cell_type": "markdown",
   "id": "70cbf1c7-290e-427b-91cc-7ef86014e8ed",
   "metadata": {},
   "source": [
    "Тут я вирішила знайти квитки зі значеннями 0 та більше 500"
   ]
  },
  {
   "cell_type": "code",
   "execution_count": 28,
   "id": "e2f66a34-5a55-4ddb-8c84-8d717fd2c321",
   "metadata": {},
   "outputs": [
    {
     "data": {
      "text/html": [
       "<div>\n",
       "<style scoped>\n",
       "    .dataframe tbody tr th:only-of-type {\n",
       "        vertical-align: middle;\n",
       "    }\n",
       "\n",
       "    .dataframe tbody tr th {\n",
       "        vertical-align: top;\n",
       "    }\n",
       "\n",
       "    .dataframe thead th {\n",
       "        text-align: right;\n",
       "    }\n",
       "</style>\n",
       "<table border=\"1\" class=\"dataframe\">\n",
       "  <thead>\n",
       "    <tr style=\"text-align: right;\">\n",
       "      <th></th>\n",
       "      <th>Name</th>\n",
       "      <th>Pclass</th>\n",
       "      <th>Age</th>\n",
       "      <th>Sex</th>\n",
       "      <th>Ticket</th>\n",
       "      <th>Cabin</th>\n",
       "    </tr>\n",
       "  </thead>\n",
       "  <tbody>\n",
       "    <tr>\n",
       "      <th>179</th>\n",
       "      <td>Leonard, Mr. Lionel</td>\n",
       "      <td>3</td>\n",
       "      <td>36.0</td>\n",
       "      <td>male</td>\n",
       "      <td>LINE</td>\n",
       "      <td>NaN</td>\n",
       "    </tr>\n",
       "    <tr>\n",
       "      <th>263</th>\n",
       "      <td>Harrison, Mr. William</td>\n",
       "      <td>1</td>\n",
       "      <td>40.0</td>\n",
       "      <td>male</td>\n",
       "      <td>112059</td>\n",
       "      <td>B94</td>\n",
       "    </tr>\n",
       "    <tr>\n",
       "      <th>271</th>\n",
       "      <td>Tornquist, Mr. William Henry</td>\n",
       "      <td>3</td>\n",
       "      <td>25.0</td>\n",
       "      <td>male</td>\n",
       "      <td>LINE</td>\n",
       "      <td>NaN</td>\n",
       "    </tr>\n",
       "    <tr>\n",
       "      <th>277</th>\n",
       "      <td>Parkes, Mr. Francis \"Frank\"</td>\n",
       "      <td>2</td>\n",
       "      <td>NaN</td>\n",
       "      <td>male</td>\n",
       "      <td>239853</td>\n",
       "      <td>NaN</td>\n",
       "    </tr>\n",
       "    <tr>\n",
       "      <th>302</th>\n",
       "      <td>Johnson, Mr. William Cahoone Jr</td>\n",
       "      <td>3</td>\n",
       "      <td>19.0</td>\n",
       "      <td>male</td>\n",
       "      <td>LINE</td>\n",
       "      <td>NaN</td>\n",
       "    </tr>\n",
       "    <tr>\n",
       "      <th>413</th>\n",
       "      <td>Cunningham, Mr. Alfred Fleming</td>\n",
       "      <td>2</td>\n",
       "      <td>NaN</td>\n",
       "      <td>male</td>\n",
       "      <td>239853</td>\n",
       "      <td>NaN</td>\n",
       "    </tr>\n",
       "    <tr>\n",
       "      <th>466</th>\n",
       "      <td>Campbell, Mr. William</td>\n",
       "      <td>2</td>\n",
       "      <td>NaN</td>\n",
       "      <td>male</td>\n",
       "      <td>239853</td>\n",
       "      <td>NaN</td>\n",
       "    </tr>\n",
       "    <tr>\n",
       "      <th>481</th>\n",
       "      <td>Frost, Mr. Anthony Wood \"Archie\"</td>\n",
       "      <td>2</td>\n",
       "      <td>NaN</td>\n",
       "      <td>male</td>\n",
       "      <td>239854</td>\n",
       "      <td>NaN</td>\n",
       "    </tr>\n",
       "    <tr>\n",
       "      <th>597</th>\n",
       "      <td>Johnson, Mr. Alfred</td>\n",
       "      <td>3</td>\n",
       "      <td>49.0</td>\n",
       "      <td>male</td>\n",
       "      <td>LINE</td>\n",
       "      <td>NaN</td>\n",
       "    </tr>\n",
       "    <tr>\n",
       "      <th>633</th>\n",
       "      <td>Parr, Mr. William Henry Marsh</td>\n",
       "      <td>1</td>\n",
       "      <td>NaN</td>\n",
       "      <td>male</td>\n",
       "      <td>112052</td>\n",
       "      <td>NaN</td>\n",
       "    </tr>\n",
       "    <tr>\n",
       "      <th>674</th>\n",
       "      <td>Watson, Mr. Ennis Hastings</td>\n",
       "      <td>2</td>\n",
       "      <td>NaN</td>\n",
       "      <td>male</td>\n",
       "      <td>239856</td>\n",
       "      <td>NaN</td>\n",
       "    </tr>\n",
       "    <tr>\n",
       "      <th>732</th>\n",
       "      <td>Knight, Mr. Robert J</td>\n",
       "      <td>2</td>\n",
       "      <td>NaN</td>\n",
       "      <td>male</td>\n",
       "      <td>239855</td>\n",
       "      <td>NaN</td>\n",
       "    </tr>\n",
       "    <tr>\n",
       "      <th>806</th>\n",
       "      <td>Andrews, Mr. Thomas Jr</td>\n",
       "      <td>1</td>\n",
       "      <td>39.0</td>\n",
       "      <td>male</td>\n",
       "      <td>112050</td>\n",
       "      <td>A36</td>\n",
       "    </tr>\n",
       "    <tr>\n",
       "      <th>815</th>\n",
       "      <td>Fry, Mr. Richard</td>\n",
       "      <td>1</td>\n",
       "      <td>NaN</td>\n",
       "      <td>male</td>\n",
       "      <td>112058</td>\n",
       "      <td>B102</td>\n",
       "    </tr>\n",
       "    <tr>\n",
       "      <th>822</th>\n",
       "      <td>Reuchlin, Jonkheer. John George</td>\n",
       "      <td>1</td>\n",
       "      <td>38.0</td>\n",
       "      <td>male</td>\n",
       "      <td>19972</td>\n",
       "      <td>NaN</td>\n",
       "    </tr>\n",
       "  </tbody>\n",
       "</table>\n",
       "</div>"
      ],
      "text/plain": [
       "                                 Name  Pclass   Age   Sex  Ticket Cabin\n",
       "179               Leonard, Mr. Lionel       3  36.0  male    LINE   NaN\n",
       "263             Harrison, Mr. William       1  40.0  male  112059   B94\n",
       "271      Tornquist, Mr. William Henry       3  25.0  male    LINE   NaN\n",
       "277       Parkes, Mr. Francis \"Frank\"       2   NaN  male  239853   NaN\n",
       "302   Johnson, Mr. William Cahoone Jr       3  19.0  male    LINE   NaN\n",
       "413    Cunningham, Mr. Alfred Fleming       2   NaN  male  239853   NaN\n",
       "466             Campbell, Mr. William       2   NaN  male  239853   NaN\n",
       "481  Frost, Mr. Anthony Wood \"Archie\"       2   NaN  male  239854   NaN\n",
       "597               Johnson, Mr. Alfred       3  49.0  male    LINE   NaN\n",
       "633     Parr, Mr. William Henry Marsh       1   NaN  male  112052   NaN\n",
       "674        Watson, Mr. Ennis Hastings       2   NaN  male  239856   NaN\n",
       "732              Knight, Mr. Robert J       2   NaN  male  239855   NaN\n",
       "806            Andrews, Mr. Thomas Jr       1  39.0  male  112050   A36\n",
       "815                  Fry, Mr. Richard       1   NaN  male  112058  B102\n",
       "822   Reuchlin, Jonkheer. John George       1  38.0  male   19972   NaN"
      ]
     },
     "execution_count": 28,
     "metadata": {},
     "output_type": "execute_result"
    }
   ],
   "source": [
    "df[df['Fare'] == 0][[\"Name\", \"Pclass\", \"Age\", \"Sex\", \"Ticket\", \"Cabin\"]]"
   ]
  },
  {
   "cell_type": "markdown",
   "id": "deb274cd-1e80-4dcb-be29-8f992cbc41d4",
   "metadata": {},
   "source": [
    "Як виявилося ці імена гугляться - більшість з них це інженери які мали виправляти проблеми на Титаніку, так як це був його перший рейс\n",
    "https://www.encyclopedia-titanica.org/titanic-victim/thomas-andrews.html\n",
    "\n",
    "І більшість з них не вижило"
   ]
  },
  {
   "cell_type": "code",
   "execution_count": 31,
   "id": "dc793797-3f8b-4c1a-bb31-5bd6ec0b33ba",
   "metadata": {},
   "outputs": [
    {
     "data": {
      "text/html": [
       "<div>\n",
       "<style scoped>\n",
       "    .dataframe tbody tr th:only-of-type {\n",
       "        vertical-align: middle;\n",
       "    }\n",
       "\n",
       "    .dataframe tbody tr th {\n",
       "        vertical-align: top;\n",
       "    }\n",
       "\n",
       "    .dataframe thead th {\n",
       "        text-align: right;\n",
       "    }\n",
       "</style>\n",
       "<table border=\"1\" class=\"dataframe\">\n",
       "  <thead>\n",
       "    <tr style=\"text-align: right;\">\n",
       "      <th></th>\n",
       "      <th>Name</th>\n",
       "      <th>Pclass</th>\n",
       "      <th>Age</th>\n",
       "      <th>Sex</th>\n",
       "      <th>Ticket</th>\n",
       "      <th>Cabin</th>\n",
       "      <th>Fare</th>\n",
       "    </tr>\n",
       "  </thead>\n",
       "  <tbody>\n",
       "    <tr>\n",
       "      <th>258</th>\n",
       "      <td>Ward, Miss. Anna</td>\n",
       "      <td>1</td>\n",
       "      <td>35.0</td>\n",
       "      <td>female</td>\n",
       "      <td>PC 17755</td>\n",
       "      <td>NaN</td>\n",
       "      <td>512.3292</td>\n",
       "    </tr>\n",
       "    <tr>\n",
       "      <th>679</th>\n",
       "      <td>Cardeza, Mr. Thomas Drake Martinez</td>\n",
       "      <td>1</td>\n",
       "      <td>36.0</td>\n",
       "      <td>male</td>\n",
       "      <td>PC 17755</td>\n",
       "      <td>B51 B53 B55</td>\n",
       "      <td>512.3292</td>\n",
       "    </tr>\n",
       "    <tr>\n",
       "      <th>737</th>\n",
       "      <td>Lesurer, Mr. Gustave J</td>\n",
       "      <td>1</td>\n",
       "      <td>35.0</td>\n",
       "      <td>male</td>\n",
       "      <td>PC 17755</td>\n",
       "      <td>B101</td>\n",
       "      <td>512.3292</td>\n",
       "    </tr>\n",
       "  </tbody>\n",
       "</table>\n",
       "</div>"
      ],
      "text/plain": [
       "                                   Name  Pclass   Age     Sex    Ticket  \\\n",
       "258                    Ward, Miss. Anna       1  35.0  female  PC 17755   \n",
       "679  Cardeza, Mr. Thomas Drake Martinez       1  36.0    male  PC 17755   \n",
       "737              Lesurer, Mr. Gustave J       1  35.0    male  PC 17755   \n",
       "\n",
       "           Cabin      Fare  \n",
       "258          NaN  512.3292  \n",
       "679  B51 B53 B55  512.3292  \n",
       "737         B101  512.3292  "
      ]
     },
     "execution_count": 31,
     "metadata": {},
     "output_type": "execute_result"
    }
   ],
   "source": [
    "df[df['Fare'] > 500][[\"Name\", \"Pclass\", \"Age\", \"Sex\", \"Ticket\", \"Cabin\", \"Fare\"]]"
   ]
  },
  {
   "cell_type": "code",
   "execution_count": null,
   "id": "aaf0b0a3-6ea4-4f67-aed9-bfac2e792ec6",
   "metadata": {},
   "outputs": [],
   "source": [
    "Логарифмічна шкала для гістограми\n"
   ]
  },
  {
   "cell_type": "code",
   "execution_count": 46,
   "id": "313ee62d-2c18-4db2-bafb-01688319a3a9",
   "metadata": {},
   "outputs": [
    {
     "data": {
      "text/plain": [
       "<Axes: xlabel='Fare', ylabel='Count'>"
      ]
     },
     "execution_count": 46,
     "metadata": {},
     "output_type": "execute_result"
    },
    {
     "data": {
      "image/png": "[encoded data removed]",
      "text/plain": [
       "<Figure size 640x480 with 1 Axes>"
      ]
     },
     "metadata": {},
     "output_type": "display_data"
    }
   ],
   "source": [
    "sns.histplot(data=df_fare, x=\"Fare\", log_scale=True)"
   ]
  },
  {
   "cell_type": "markdown",
   "id": "d14333f4-046a-4658-9d37-9523f7e5d390",
   "metadata": {},
   "source": [
    "Тут краще використовувати медіану, бо більшість пасажирів заплатити 10-15 фунтів за квиток. \n",
    "\n",
    "- 10^0 = 1  фунт\n",
    "- 10^1 = 10  фунтів\n",
    "- 10^2 = 100  фунтів\n",
    "\n",
    "Були і дуже дорогі квитки - вони і тягнуть криву вправо. Можна сказати що це викид - але пред цим потрібно зрозуміти як виживаємість залежить від ціни квитка або розташування. Можливо саме ці каюти були розташовані в безпечному місці. Або можлво саме цих пасажирів (елітних) спасали в першу чергу. "
   ]
  },
  {
   "cell_type": "markdown",
   "id": "88cba055-a84b-40ec-9218-c1d39ec225c2",
   "metadata": {},
   "source": [
    "### 3. Сегментування + центр\n",
    "- Виведи mean, median, mode для кожної змінної.\n",
    "- Побудуй bar chart для частот.\n",
    "- Що ти можеш сказати про більшість пасажирів — з ким вони подорожували?\n",
    "- Яка міра центру краще показує типову поведінку?"
   ]
  },
  {
   "cell_type": "code",
   "execution_count": 19,
   "id": "5dfa0646-e1e5-4ac1-acb8-517d6cac2d22",
   "metadata": {},
   "outputs": [
    {
     "data": {
      "text/html": [
       "<div>\n",
       "<style scoped>\n",
       "    .dataframe tbody tr th:only-of-type {\n",
       "        vertical-align: middle;\n",
       "    }\n",
       "\n",
       "    .dataframe tbody tr th {\n",
       "        vertical-align: top;\n",
       "    }\n",
       "\n",
       "    .dataframe thead th {\n",
       "        text-align: right;\n",
       "    }\n",
       "</style>\n",
       "<table border=\"1\" class=\"dataframe\">\n",
       "  <thead>\n",
       "    <tr style=\"text-align: right;\">\n",
       "      <th></th>\n",
       "      <th>Mean</th>\n",
       "      <th>Median</th>\n",
       "      <th>Mode</th>\n",
       "    </tr>\n",
       "  </thead>\n",
       "  <tbody>\n",
       "    <tr>\n",
       "      <th>0</th>\n",
       "      <td>32.204208</td>\n",
       "      <td>14.4542</td>\n",
       "      <td>8.05</td>\n",
       "    </tr>\n",
       "  </tbody>\n",
       "</table>\n",
       "</div>"
      ],
      "text/plain": [
       "        Mean   Median  Mode\n",
       "0  32.204208  14.4542  8.05"
      ]
     },
     "execution_count": 19,
     "metadata": {},
     "output_type": "execute_result"
    }
   ],
   "source": [
    "fare_df = pd.DataFrame(columns=['Mean', 'Median', 'Mode'])\n",
    "\n",
    "fare_df['Mean'] = [df[\"Fare\"].mean()]\n",
    "fare_df['Median'] = [df[\"Fare\"].median()]\n",
    "fare_df['Mode'] = [df[\"Fare\"].mode().iloc[0]]\n",
    "\n",
    "fare_df"
   ]
  },
  {
   "cell_type": "markdown",
   "id": "8b2276b6-b3db-4adb-ab17-6c6bc639bf38",
   "metadata": {},
   "source": [
    "### 4. Parch / SibSp\n",
    "- Обчисли mean та median віку окремо для тих, хто вижив (Survived==1) і хто не вижив (Survived==0).\n",
    "- Чи є різниця?\n",
    "- Повтори те ж саме для Fare: чи люди, які заплатили більше, мали вищий шанс вижити?"
   ]
  },
  {
   "cell_type": "markdown",
   "id": "6e3975ea-a40e-431d-8062-3d6ea05dd41e",
   "metadata": {},
   "source": [
    "# TODO \n",
    "- [X] Parch і SibSp - переглянути що це мається на увазі. Якщо SibSp це зрозуміло що кількість родичів, а от Parch - не зрозуміло чи це тільки діти чи батьки і діти. Чи входять вони в SibSp? Чи правильно я розумію що там чоловік, жінка і кількість дітей?\n",
    "- [ ] Побудувати граф Parch і SibSp\n",
    "- [ ] 20% чоловіків вижили - можливо це діти?"
   ]
  },
  {
   "cell_type": "markdown",
   "id": "27b72d9e-349d-4411-b9c2-9c84086fdce6",
   "metadata": {},
   "source": [
    "# Гіпотези"
   ]
  },
  {
   "cell_type": "markdown",
   "id": "ef1aeb75-4738-4cd9-979b-d1ae6b5c8031",
   "metadata": {},
   "source": [
    "- [ ] Жінки вижили (але не всі). Які критерії підвищили виживаємість жінці?\n",
    "- [ ] Чоловіки-діти - вижили\n",
    "- [ ] Пасажири 1-го класу - вижили\n",
    "- [ ] Як залежить виживаємість від віку?\n",
    "- [ ] Ціна і місце: 1 клас вижив? можливо 3-й клас виживаємість залежить від розміщення місця на кораблі https://www.encyclopedia-titanica.org/titanic-deckplans/b-deck.html "
   ]
  },
  {
   "cell_type": "code",
   "execution_count": null,
   "id": "02e7dcbb-3a5d-47f7-9aca-3992d63bfad0",
   "metadata": {},
   "outputs": [],
   "source": []
  }
 ],
 "metadata": {
  "kernelspec": {
   "display_name": "Python 3 (ipykernel)",
   "language": "python",
   "name": "python3"
  },
  "language_info": {
   "codemirror_mode": {
    "name": "ipython",
    "version": 3
   },
   "file_extension": ".py",
   "mimetype": "text/x-python",
   "name": "python",
   "nbconvert_exporter": "python",
   "pygments_lexer": "ipython3",
   "version": "3.8.20"
  }
 },
 "nbformat": 4,
 "nbformat_minor": 5
}
